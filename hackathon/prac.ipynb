{
 "cells": [
  {
   "cell_type": "code",
   "execution_count": 1,
   "metadata": {},
   "outputs": [
    {
     "name": "stderr",
     "output_type": "stream",
     "text": [
      "c:\\Program Files\\Python312\\Lib\\importlib\\__init__.py:90: LangChainDeprecationWarning: As of langchain-core 0.3.0, LangChain uses pydantic v2 internally. The langchain_core.pydantic_v1 module was a compatibility shim for pydantic v1, and should no longer be used. Please update the code to import from Pydantic directly.\n",
      "\n",
      "For example, replace imports like: `from langchain_core.pydantic_v1 import BaseModel`\n",
      "with: `from pydantic import BaseModel`\n",
      "or the v1 compatibility namespace if you are working in a code base that has not been fully upgraded to pydantic 2 yet. \tfrom pydantic.v1 import BaseModel\n",
      "\n",
      "  return _bootstrap._gcd_import(name[level:], package, level)\n",
      "C:\\Users\\mandem.krishna\\AppData\\Roaming\\Python\\Python312\\site-packages\\tqdm\\auto.py:21: TqdmWarning: IProgress not found. Please update jupyter and ipywidgets. See https://ipywidgets.readthedocs.io/en/stable/user_install.html\n",
      "  from .autonotebook import tqdm as notebook_tqdm\n"
     ]
    },
    {
     "name": "stdout",
     "output_type": "stream",
     "text": [
      "WARNING:tensorflow:From C:\\Users\\mandem.krishna\\AppData\\Roaming\\Python\\Python312\\site-packages\\tf_keras\\src\\losses.py:2976: The name tf.losses.sparse_softmax_cross_entropy is deprecated. Please use tf.compat.v1.losses.sparse_softmax_cross_entropy instead.\n",
      "\n"
     ]
    },
    {
     "name": "stderr",
     "output_type": "stream",
     "text": [
      "C:\\Users\\mandem.krishna\\AppData\\Roaming\\Python\\Python312\\site-packages\\huggingface_hub\\file_download.py:142: UserWarning: `huggingface_hub` cache-system uses symlinks by default to efficiently store duplicated files but your machine does not support them in C:\\Users\\mandem.krishna\\.cache\\huggingface\\hub\\models--sentence-transformers--all-MiniLM-L6-v2. Caching files will still work but in a degraded version that might require more space on your disk. This warning can be disabled by setting the `HF_HUB_DISABLE_SYMLINKS_WARNING` environment variable. For more details, see https://huggingface.co/docs/huggingface_hub/how-to-cache#limitations.\n",
      "To support symlinks on Windows, you either need to activate Developer Mode or to run Python as an administrator. In order to activate developer mode, see this article: https://docs.microsoft.com/en-us/windows/apps/get-started/enable-your-device-for-development\n",
      "  warnings.warn(message)\n"
     ]
    }
   ],
   "source": [
    "import os\n",
    "# import fitz  # PyMuPDF\n",
    "from bs4 import BeautifulSoup\n",
    "import requests\n",
    "from langchain.text_splitter import RecursiveCharacterTextSplitter\n",
    "from langchain.embeddings import HuggingFaceEmbeddings\n",
    "# from langchain_huggingface import HuggingFaceEmbeddings\n",
    "from langchain.vectorstores import FAISS\n",
    "\n",
    "# Initialize embedding model\n",
    "embeddings = HuggingFaceEmbeddings(model_name=\"sentence-transformers/all-MiniLM-L6-v2\")\n",
    "\n"
   ]
  },
  {
   "cell_type": "code",
   "execution_count": 2,
   "metadata": {},
   "outputs": [],
   "source": [
    "# Function to extract text from a URL\n",
    "def extract_text_from_url(url):\n",
    "    response = requests.get(url)\n",
    "    soup = BeautifulSoup(response.text, 'html.parser')\n",
    "    return soup.get_text()"
   ]
  },
  {
   "cell_type": "code",
   "execution_count": 7,
   "metadata": {},
   "outputs": [
    {
     "name": "stdout",
     "output_type": "stream",
     "text": [
      "c:\\OneDrive\\OneDrive - Tredence\\Desktop\\Downloads_vin\\Vin_misc_learnings\\POC\\hackathon\n"
     ]
    }
   ],
   "source": [
    "import os\n",
    "print(os.getcwd()) ## printing the current working directory"
   ]
  },
  {
   "cell_type": "code",
   "execution_count": 6,
   "metadata": {},
   "outputs": [],
   "source": [
    "embedding_model = HuggingFaceEmbeddings(\n",
    "    model_name=\"sentence-transformers/all-MiniLM-L6-v2\"\n",
    ")\n",
    "# Initialize embedding model\n",
    "# embedding_model = HuggingFaceEmbeddings(\n",
    "#     model_name=\"sentence-transformers/all-MiniLM-L6-v2\"\n",
    "# )\n",
    "\n",
    "# Function to extract text from a URL\n",
    "def extract_text_from_url(url):\n",
    "    try:\n",
    "        response = requests.get(url, timeout=10)\n",
    "        response.raise_for_status()  # Raise an error for bad status codes\n",
    "        soup = BeautifulSoup(response.text, 'html.parser')\n",
    "        return soup.get_text(separator=' ', strip=True)\n",
    "    except requests.RequestException as e:\n",
    "        print(f\"Error fetching {url}: {e}\")\n",
    "        return None\n",
    "\n",
    "# List of resources\n",
    "resources =  [\"https://www.geeksforgeeks.org/ml-linear-regression/\", \"https://www.geeksforgeeks.org/understanding-logistic-regression/\",\\\n",
    "\"https://www.geeksforgeeks.org/decision-tree/\", \"https://www.geeksforgeeks.org/random-forest-regression-in-python/\",\t\t\t \"https://www.geeksforgeeks.org/unsupervised-learning/\", \"https://www.geeksforgeeks.org/k-means-clustering-introduction/\",\\\n",
    "\"https://www.geeksforgeeks.org/hierarchical-clustering/\",\"https://www.geeksforgeeks.org/dbscan-clustering-in-ml-density-based-clustering/\",\"https://www.geeksforgeeks.org/ml-mean-shift-clustering/\",\"https://www.geeksforgeeks.org/ml-spectral-clustering/\",\"https://www.geeksforgeeks.org/clustering-in-machine-learning/\", \"https://www.geeksforgeeks.org/association-rule/\",\"https://www.geeksforgeeks.org/apriori-algorithm/\",\"https://www.geeksforgeeks.org/frequent-pattern-growth-algorithm/\",\"https://www.geeksforgeeks.org/ml-eclat-algorithm/\", \"https://www.geeksforgeeks.org/introduction-to-tree-data-structure/\", \"https://www.geeksforgeeks.org/principal-component-analysis-pca/\",\"https://www.geeksforgeeks.org/ml-linear-discriminant-analysis/\",\"https://www.geeksforgeeks.org/non-negative-matrix-factorization/\",\"https://www.geeksforgeeks.org/locally-linear-embedding-in-machine-learning/\",\"https://www.geeksforgeeks.org/isomap-a-non-linear-dimensionality-reduction-technique/\",\"https://www.geeksforgeeks.org/underfitting-and-overfitting-in-machine-learning/\",\"https://www.geeksforgeeks.org/what-is-feature-engineering/\", \"https://www.geeksforgeeks.org/what-is-data-normalization/\",\"https://www.geeksforgeeks.org/feature-selection-techniques-in-machine-learning/\",\"https://www.geeksforgeeks.org/ml-one-hot-encoding/\",\"https://www.geeksforgeeks.org/binning-in-data-mining/\",\"https://www.geeksforgeeks.org/splitting-data-for-machine-learning-models/\",\\\n",
    "\"https://www.geeksforgeeks.org/what-is-reinforcement-learning/\",\"https://www.geeksforgeeks.org/machine-learning-lifecycle/\",\"https://www.geeksforgeeks.org/data-cleansing-introduction/\",\"https://www.geeksforgeeks.org/ml-feature-scaling-part-2/\",\"https://www.geeksforgeeks.org/data-preprocessing-machine-learning-python/\",\"https://www.geeksforgeeks.org/getting-started-with-classification/\",\"https://www.geeksforgeeks.org/understanding-logistic-regression/\",\"https://www.geeksforgeeks.org/support-vector-machine-algorithm/\",\"https://www.geeksforgeeks.org/single-layer-perceptron-in-tensorflow/\",\"https://www.geeksforgeeks.org/stochastic-gradient-descent-classifier/\",\"https://www.geeksforgeeks.org/k-nearest-neighbours/\",\"https://www.geeksforgeeks.org/major-kernel-functions-in-support-vector-machine-svm/\",\"https://www.geeksforgeeks.org/naive-bayes-classifiers/\",\"https://www.geeksforgeeks.org/ensemble-classifier-data-mining/\",\"https://www.geeksforgeeks.org/random-forest-classifier-using-scikit-learn/\",\"https://www.geeksforgeeks.org/implementing-the-adaboost-algorithm-from-scratch/\",\"https://www.geeksforgeeks.org/ml-bagging-classifier/\",\"https://www.geeksforgeeks.org/ml-voting-classifier-using-sklearn/\",\"https://www.geeksforgeeks.org/ml-extra-tree-classifier-for-feature-selection/\",\"https://www.geeksforgeeks.org/multi-layer-perceptron-learning-in-tensorflow/\",\"https://www.geeksforgeeks.org/ml-multiple-linear-regression-using-python/\",\"https://www.geeksforgeeks.org/python-implementation-of-polynomial-regression/\",\"https://www.geeksforgeeks.org/ridge-regression-vs-lasso-regression/\",\"https://www.geeksforgeeks.org/support-vector-machine-algorithm/\",\"https://www.geeksforgeeks.org/decision-tree/\",\"https://www.geeksforgeeks.org/random-forest-algorithm-in-machine-learning/\",\"https://www.geeksforgeeks.org/how-to-calculate-mean-absolute-error-in-python/\",\"https://www.geeksforgeeks.org/python-mean-squared-error/\",\"https://www.geeksforgeeks.org/rmse-root-mean-square-error-in-matlab/\",\"https://www.geeksforgeeks.org/sklearn-different-loss-functions-in-sgd/\",\"https://www.geeksforgeeks.org/python-coefficient-of-determination-r2-score/\",\"https://www.geeksforgeeks.org/handling-missing-values-in-non-negative-matrix-factorization-nmf/\",\"https://www.geeksforgeeks.org/ml-independent-component-analysis/\",\"https://www.geeksforgeeks.org/fastica-on-2d-point-clouds-in-scikit-learn/\",\"https://www.geeksforgeeks.org/implementing-apriori-algorithm-in-python/\",\"https://www.geeksforgeeks.org/monte-carlo-integration-in-python/\"]\n",
    "\n",
    "\n",
    "# Extract and process documents\n",
    "documents = [extract_text_from_url(url) for url in resources]\n",
    "documents = [doc for doc in documents if doc]  # Remove None values\n",
    "\n",
    "# Split text into smaller chunks\n",
    "text_splitter = RecursiveCharacterTextSplitter(chunk_size=500, chunk_overlap=50)\n",
    "chunks = [chunk for doc in documents for chunk in text_splitter.split_text(doc)]\n",
    "\n",
    "# Generate embeddings and create FAISS index\n",
    "vector_db = FAISS.from_texts(chunks, embedding_model)"
   ]
  },
  {
   "cell_type": "code",
   "execution_count": 21,
   "metadata": {},
   "outputs": [
    {
     "data": {
      "text/plain": [
       "3611"
      ]
     },
     "execution_count": 21,
     "metadata": {},
     "output_type": "execute_result"
    }
   ],
   "source": [
    "len(chunks)"
   ]
  },
  {
   "cell_type": "code",
   "execution_count": 8,
   "metadata": {},
   "outputs": [],
   "source": [
    "vector_db.save_local(\"ml_resources_index\")"
   ]
  },
  {
   "cell_type": "code",
   "execution_count": null,
   "metadata": {},
   "outputs": [
    {
     "name": "stdout",
     "output_type": "stream",
     "text": [
      "tags=['FAISS', 'HuggingFaceEmbeddings'] vectorstore=<langchain_community.vectorstores.faiss.FAISS object at 0x000002765B283C50> search_type='similarity_score_threshold' search_kwargs={'score_threshold': 0.5}\n"
     ]
    }
   ],
   "source": [
    "query = 'linear regression'\n",
    "\n",
    "vector_db = FAISS.load_local(\"ml_resources_index\", embedding_model, allow_dangerous_deserialization=True)\n",
    "retriever = vector_db.as_retriever(search_type='similarity_score_threshold', search_kwargs = {'score_threshold':0.5})\n",
    "print(retriever)"
   ]
  },
  {
   "cell_type": "code",
   "execution_count": 34,
   "metadata": {},
   "outputs": [
    {
     "data": {
      "text/plain": [
       "[Document(metadata={}, page_content='variables like rainfall, temperature, soil quality and fertilizer usage. This information helps in planning agricultural practices for optimal productivity E-commerce Sales Analysis: An e-commerce company can utilize MLR to assess how various factors such as product price, marketing promotions and seasonal trends impact sales. Now that we have understood about linear regression, its assumption and its type now we will learn how to make a linear regression model. Cost function for Linear'),\n",
       " Document(metadata={}, page_content='Linear regression is a well-established algorithm with a rich history and is widely available in various machine learning libraries and software packages. Disadvantages of Linear Regression Linear regression assumes a linear relationship between the dependent and independent variables. If the relationship is not linear, the model may not perform well. Linear regression is sensitive to multicollinearity, which occurs when there is a high correlation between independent variables.'),\n",
       " Document(metadata={}, page_content='has been widely used for many years due to its simplicity, interpretability, and efficiency. It is a valuable tool for understanding relationships between variables and making predictions in a variety of applications. However, it is important to be aware of its limitations, such as its assumption of linearity and sensitivity to multicollinearity. When these limitations are carefully considered, linear regression can be a powerful tool for data analysis and prediction. Linear Regression –'),\n",
       " Document(metadata={}, page_content='data analysis and prediction. Linear Regression – Frequently Asked Questions (FAQs) What does linear regression mean in simple? Linear regression is a supervised machine learning algorithm that predicts a continuous target variable based on one or more independent variables. It assumes a linear relationship between the dependent and independent variables and uses a linear equation to model this relationship. Why do we use linear regression? Linear regression is commonly used for: Predicting'),\n",
       " Document(metadata={}, page_content='many types of functions or modules that can be used for regression. A linear function is the simplest type of function. Here, X may be a single feature or multiple features representing the problem. Linear regression performs the task to predict a dependent variable value (y) based on a given independent variable (x)). Hence, the name is Linear Regression. In the figure above, X (input) is the work experience and Y (output) is the salary of a person. The regression line is the best-fit line for'),\n",
       " Document(metadata={}, page_content='variables. It provides valuable insights for prediction and data analysis. This article will explore its types, assumptions, implementation, advantages, and evaluation metrics. Understanding Linear Regression Linear regression is also a type of supervised machine-learning algorithm that learns from the labelled datasets and maps the data points with most optimized linear functions which can be used for prediction on new datasets.\\xa0It computes the linear relationship between the dependent')]"
      ]
     },
     "execution_count": 34,
     "metadata": {},
     "output_type": "execute_result"
    }
   ],
   "source": [
    "vector_db.similarity_search(query, k=6)"
   ]
  },
  {
   "cell_type": "code",
   "execution_count": 28,
   "metadata": {},
   "outputs": [
    {
     "data": {
      "text/plain": [
       "[(Document(metadata={}, page_content='In supervised learning, the model is trained with labeled data where each input is paired with a corresponding output. On the other hand, unsupervised learning involves training the model with unlabeled data where the task is to uncover patterns, structures or relation 12 min read Difference between Supervised and Unsupervised Learning The difference between supervised and unsupervised learning lies in how they use data and their goals. Supervised learning relies on labeled datasets, where each'),\n",
       "  0.24057627),\n",
       " (Document(metadata={}, page_content='of speech to words in a sentence. 5. What are the differences between supervised and unsupervised learning? Supervised and unsupervised learning are two fundamental approaches to machine learning that differ in their training data and learning objectives. Supervised learning involves training a machine learning model on a labeled dataset, where each data point has a corresponding label or output value. The algorithm learns to map the input data to the desired output, allowing it to make'),\n",
       "  0.33022442),\n",
       " (Document(metadata={}, page_content='Considered Supervised or Unsupervised Machine Learning? Answer: K-means clustering is considered an unsupervised machine learning algorithm. This categorization is because it does not rely on labeled input data for training; instead, it organizes data into clusters based on inherent similarities without any predefined labels.In this article we will explore K-Means Clustering in Machine LearningUnsupervi 2 min read Like 1k+ interested Geeks Artificial Intelligence for Kids - Complete AI Course'),\n",
       "  0.6190393),\n",
       " (Document(metadata={}, page_content='is easy to collect as compared to the labeled one in the Supervised approach. Unsupervised Learning Algorithms There are mainly 3 types of Algorithms which are used for Unsupervised dataset. Clustering Association Rule Learning Dimensionality Reduction 1. Clustering Algorithms Clustering in unsupervised machine learning is the process of grouping unlabeled data into clusters based on their similarities. The goal of clustering is to identify patterns and relationships in the data without any'),\n",
       "  0.63739866),\n",
       " (Document(metadata={}, page_content='data to the desired output, allowing it to make predictions for new, unseen data. Unsupervised learning , on the other hand, deals with unlabeled datasets, where the data points do not have associated labels or output values. The algorithm’s goal is to uncover hidden patterns and structures within the data without explicit guidance. Get IBM Certification and a 90% fee refund on completing 90% course in 90 days! Take the Three 90 Challenge today. Master Machine Learning, Data Science & AI with'),\n",
       "  0.6471193),\n",
       " (Document(metadata={}, page_content='to identify patterns and structures in the data. Processing stage shows the algorithm working on the data. The output shows the results of the unsupervised learning process. In this case, the algorithm might have grouped the animals into clusters based on their species (elephants, camels, cows). How does unsupervised learning work? Unsupervised learning works by analyzing unlabeled data to identify patterns and relationships. The data is not labeled with any predefined categories or outcomes,'),\n",
       "  0.64778507),\n",
       " (Document(metadata={}, page_content='What is Unsupervised Learning? | GeeksforGeeks Skip to content Courses Get IBM Certifications Complete Machine Learning & Data Science Program Data Science Training Program Data Analytics Training using Excel, SQL, Python & PowerBI Complete Data Analytics Program DSA to Development For Working Professionals Data Structure & Algorithm Classes (Live) System Design (Live) JAVA Backend Development(Live) DevOps(Live) Data Structures & Algorithms in Python For Students Interview Preparation Course'),\n",
       "  0.65772355),\n",
       " (Document(metadata={}, page_content='unsupervised learning algorithms are tasked with finding patterns and relationships within the data without any prior knowledge of the data’s meaning . Unsupervised machine learning algorithms find hidden patterns and data without any human intervention, i.e., we don’t give output to our model. The training model has only input parameter values and discovers the groups or patterns on its own. Unsupervised Learning The image shows set of animals: elephants, camels, and cows that represents raw'),\n",
       "  0.67794645),\n",
       " (Document(metadata={}, page_content='learning, supervised learning and unsupervised learning, form the foundation of various applications. This article explores examples in both learnings, shedding light on diverse applications and showcasing the versatility of machine learning in addressing real-world challenges. Examples of Supervised Learning and Uns 6 min read Supervised and Unsupervised learning Supervised and unsupervised learning are two key approaches in machine learning. In supervised learning, the model is trained with'),\n",
       "  0.68251115),\n",
       " (Document(metadata={}, page_content='unsupervised learning algorithms can be sensitive to the quality of the data, and may perform poorly on noisy or incomplete data. 4. How is unsupervised learning used in natural language processing (NLP)? Unsupervised learning is used in a variety of NLP tasks,\\xa0including: Topic modeling: Identifying latent topics within large text corpora. Document clustering: Grouping documents based on their similarity. Part-of-speech tagging: Assigning parts of speech to words in a sentence. 5. What are the'),\n",
       "  0.7516171),\n",
       " (Document(metadata={}, page_content='or trends in user interactions on social media platforms. Astronomy and Climate Science: Classifies galaxies or groups weather patterns to support scientific research Unsupervised Learning Frequently asked Question(FAQs) 1. What is unsupervised learning? Unsupervised learning is a type of machine learning where the algorithm analyzes unlabeled data to find patterns or groupings. It helps identify clusters, anomalies, or hidden structures without predefined categories. 2. What are some of the'),\n",
       "  0.7815),\n",
       " (Document(metadata={}, page_content='you can use unsupervised learning to discover patterns or features and then apply supervised learning for prediction or classification tasks.Combining unsupervised learning with supervised learning is a powerful strategy that leverages the strengths of both approaches to enhance the performance of machine learning models. This combina 2 min read Real-Life Examples of Supervised Learning and Unsupervised Learning Two primary branches of machine learning, supervised learning and unsupervised'),\n",
       "  0.8016268),\n",
       " (Document(metadata={}, page_content='not only in supervised learning but also in unsupervised learning. In unsupervised learning, the goal is to identify patterns or structures in data without pre-ex 2 min read How to implement unsupervised learning tasks with TensorFlow? In this article, we are going to explore how can we implement unsupervised learning tasks using TensorFlow framework. Unsupervised learning, a branch of machine learning, discovers patterns or structures in data without explicit labels. TensorFlow users can'),\n",
       "  0.8024932),\n",
       " (Document(metadata={}, page_content='without explicit labels. TensorFlow users can explore diverse unsupervised learning techniques such as clustering, dimensionality reductio 4 min read Unsupervised Machine Learning Examples Unsupervised machine learning represents a pivotal domain within artificial intelligence, emphasizing the extraction of patterns and structures from data devoid of prior labeling. Unlike its supervised counterpart, which relies on labeled outcomes to guide predictions, unsupervised algorithms delve into the'),\n",
       "  0.8359311),\n",
       " (Document(metadata={}, page_content='predefined categories. 2. What are some of the common applications of unsupervised learning? Unsupervised learning has a wide range of applications, including: Clustering: Grouping data points into clusters based on their similarities. Dimensionality reduction: Reducing the number of features in a dataset while preserving as much information as possible. Anomaly detection: Identifying data points that deviate from the expected patterns,\\xa0often signaling anomalies or outliers. Recommendation'),\n",
       "  0.8436649)]"
      ]
     },
     "execution_count": 28,
     "metadata": {},
     "output_type": "execute_result"
    }
   ],
   "source": [
    "vector_db.similarity_search_with_score(query, k=15)"
   ]
  },
  {
   "cell_type": "code",
   "execution_count": 19,
   "metadata": {},
   "outputs": [
    {
     "name": "stderr",
     "output_type": "stream",
     "text": [
      "No relevant docs were retrieved using the relevance score threshold 0.5\n"
     ]
    },
    {
     "data": {
      "text/plain": [
       "[]"
      ]
     },
     "execution_count": 19,
     "metadata": {},
     "output_type": "execute_result"
    }
   ],
   "source": [
    "retriever.invoke('machine learning?')"
   ]
  },
  {
   "cell_type": "code",
   "execution_count": null,
   "metadata": {},
   "outputs": [
    {
     "ename": "JSONDecodeError",
     "evalue": "Expecting ',' delimiter: line 2 column 11 (char 12)",
     "output_type": "error",
     "traceback": [
      "\u001b[1;31m---------------------------------------------------------------------------\u001b[0m",
      "\u001b[1;31mJSONDecodeError\u001b[0m                           Traceback (most recent call last)",
      "Cell \u001b[1;32mIn[40], line 11\u001b[0m\n\u001b[0;32m      4\u001b[0m j \u001b[38;5;241m=\u001b[39m \u001b[38;5;124m'''\u001b[39m\u001b[38;5;124m{\u001b[39m\n\u001b[0;32m      5\u001b[0m \u001b[38;5;124m    \u001b[39m\u001b[38;5;124m\"\u001b[39m\u001b[38;5;124ma\u001b[39m\u001b[38;5;124m\"\u001b[39m\u001b[38;5;124m:\u001b[39m\u001b[38;5;124m\"\u001b[39m\u001b[38;5;124m\"\u001b[39m\u001b[38;5;124m\"\u001b[39m\u001b[38;5;124mabc\u001b[39m\n\u001b[0;32m      6\u001b[0m \u001b[38;5;124m    de\u001b[39m\n\u001b[0;32m      7\u001b[0m \u001b[38;5;124m    fgh\u001b[39m\u001b[38;5;124m\"\u001b[39m\u001b[38;5;124m\"\u001b[39m\u001b[38;5;124m\"\u001b[39m\n\u001b[0;32m      8\u001b[0m \n\u001b[0;32m      9\u001b[0m \u001b[38;5;124m}\u001b[39m\u001b[38;5;124m'''\u001b[39m\n\u001b[0;32m     10\u001b[0m \u001b[38;5;66;03m# res = json.dumps(j)\u001b[39;00m\n\u001b[1;32m---> 11\u001b[0m \u001b[43mjson\u001b[49m\u001b[38;5;241;43m.\u001b[39;49m\u001b[43mloads\u001b[49m\u001b[43m(\u001b[49m\u001b[43mj\u001b[49m\u001b[43m)\u001b[49m\n",
      "File \u001b[1;32mc:\\Program Files\\Python312\\Lib\\json\\__init__.py:346\u001b[0m, in \u001b[0;36mloads\u001b[1;34m(s, cls, object_hook, parse_float, parse_int, parse_constant, object_pairs_hook, **kw)\u001b[0m\n\u001b[0;32m    341\u001b[0m     s \u001b[38;5;241m=\u001b[39m s\u001b[38;5;241m.\u001b[39mdecode(detect_encoding(s), \u001b[38;5;124m'\u001b[39m\u001b[38;5;124msurrogatepass\u001b[39m\u001b[38;5;124m'\u001b[39m)\n\u001b[0;32m    343\u001b[0m \u001b[38;5;28;01mif\u001b[39;00m (\u001b[38;5;28mcls\u001b[39m \u001b[38;5;129;01mis\u001b[39;00m \u001b[38;5;28;01mNone\u001b[39;00m \u001b[38;5;129;01mand\u001b[39;00m object_hook \u001b[38;5;129;01mis\u001b[39;00m \u001b[38;5;28;01mNone\u001b[39;00m \u001b[38;5;129;01mand\u001b[39;00m\n\u001b[0;32m    344\u001b[0m         parse_int \u001b[38;5;129;01mis\u001b[39;00m \u001b[38;5;28;01mNone\u001b[39;00m \u001b[38;5;129;01mand\u001b[39;00m parse_float \u001b[38;5;129;01mis\u001b[39;00m \u001b[38;5;28;01mNone\u001b[39;00m \u001b[38;5;129;01mand\u001b[39;00m\n\u001b[0;32m    345\u001b[0m         parse_constant \u001b[38;5;129;01mis\u001b[39;00m \u001b[38;5;28;01mNone\u001b[39;00m \u001b[38;5;129;01mand\u001b[39;00m object_pairs_hook \u001b[38;5;129;01mis\u001b[39;00m \u001b[38;5;28;01mNone\u001b[39;00m \u001b[38;5;129;01mand\u001b[39;00m \u001b[38;5;129;01mnot\u001b[39;00m kw):\n\u001b[1;32m--> 346\u001b[0m     \u001b[38;5;28;01mreturn\u001b[39;00m \u001b[43m_default_decoder\u001b[49m\u001b[38;5;241;43m.\u001b[39;49m\u001b[43mdecode\u001b[49m\u001b[43m(\u001b[49m\u001b[43ms\u001b[49m\u001b[43m)\u001b[49m\n\u001b[0;32m    347\u001b[0m \u001b[38;5;28;01mif\u001b[39;00m \u001b[38;5;28mcls\u001b[39m \u001b[38;5;129;01mis\u001b[39;00m \u001b[38;5;28;01mNone\u001b[39;00m:\n\u001b[0;32m    348\u001b[0m     \u001b[38;5;28mcls\u001b[39m \u001b[38;5;241m=\u001b[39m JSONDecoder\n",
      "File \u001b[1;32mc:\\Program Files\\Python312\\Lib\\json\\decoder.py:337\u001b[0m, in \u001b[0;36mJSONDecoder.decode\u001b[1;34m(self, s, _w)\u001b[0m\n\u001b[0;32m    332\u001b[0m \u001b[38;5;28;01mdef\u001b[39;00m \u001b[38;5;21mdecode\u001b[39m(\u001b[38;5;28mself\u001b[39m, s, _w\u001b[38;5;241m=\u001b[39mWHITESPACE\u001b[38;5;241m.\u001b[39mmatch):\n\u001b[0;32m    333\u001b[0m \u001b[38;5;250m    \u001b[39m\u001b[38;5;124;03m\"\"\"Return the Python representation of ``s`` (a ``str`` instance\u001b[39;00m\n\u001b[0;32m    334\u001b[0m \u001b[38;5;124;03m    containing a JSON document).\u001b[39;00m\n\u001b[0;32m    335\u001b[0m \n\u001b[0;32m    336\u001b[0m \u001b[38;5;124;03m    \"\"\"\u001b[39;00m\n\u001b[1;32m--> 337\u001b[0m     obj, end \u001b[38;5;241m=\u001b[39m \u001b[38;5;28;43mself\u001b[39;49m\u001b[38;5;241;43m.\u001b[39;49m\u001b[43mraw_decode\u001b[49m\u001b[43m(\u001b[49m\u001b[43ms\u001b[49m\u001b[43m,\u001b[49m\u001b[43m \u001b[49m\u001b[43midx\u001b[49m\u001b[38;5;241;43m=\u001b[39;49m\u001b[43m_w\u001b[49m\u001b[43m(\u001b[49m\u001b[43ms\u001b[49m\u001b[43m,\u001b[49m\u001b[43m \u001b[49m\u001b[38;5;241;43m0\u001b[39;49m\u001b[43m)\u001b[49m\u001b[38;5;241;43m.\u001b[39;49m\u001b[43mend\u001b[49m\u001b[43m(\u001b[49m\u001b[43m)\u001b[49m\u001b[43m)\u001b[49m\n\u001b[0;32m    338\u001b[0m     end \u001b[38;5;241m=\u001b[39m _w(s, end)\u001b[38;5;241m.\u001b[39mend()\n\u001b[0;32m    339\u001b[0m     \u001b[38;5;28;01mif\u001b[39;00m end \u001b[38;5;241m!=\u001b[39m \u001b[38;5;28mlen\u001b[39m(s):\n",
      "File \u001b[1;32mc:\\Program Files\\Python312\\Lib\\json\\decoder.py:353\u001b[0m, in \u001b[0;36mJSONDecoder.raw_decode\u001b[1;34m(self, s, idx)\u001b[0m\n\u001b[0;32m    344\u001b[0m \u001b[38;5;250m\u001b[39m\u001b[38;5;124;03m\"\"\"Decode a JSON document from ``s`` (a ``str`` beginning with\u001b[39;00m\n\u001b[0;32m    345\u001b[0m \u001b[38;5;124;03ma JSON document) and return a 2-tuple of the Python\u001b[39;00m\n\u001b[0;32m    346\u001b[0m \u001b[38;5;124;03mrepresentation and the index in ``s`` where the document ended.\u001b[39;00m\n\u001b[1;32m   (...)\u001b[0m\n\u001b[0;32m    350\u001b[0m \n\u001b[0;32m    351\u001b[0m \u001b[38;5;124;03m\"\"\"\u001b[39;00m\n\u001b[0;32m    352\u001b[0m \u001b[38;5;28;01mtry\u001b[39;00m:\n\u001b[1;32m--> 353\u001b[0m     obj, end \u001b[38;5;241m=\u001b[39m \u001b[38;5;28;43mself\u001b[39;49m\u001b[38;5;241;43m.\u001b[39;49m\u001b[43mscan_once\u001b[49m\u001b[43m(\u001b[49m\u001b[43ms\u001b[49m\u001b[43m,\u001b[49m\u001b[43m \u001b[49m\u001b[43midx\u001b[49m\u001b[43m)\u001b[49m\n\u001b[0;32m    354\u001b[0m \u001b[38;5;28;01mexcept\u001b[39;00m \u001b[38;5;167;01mStopIteration\u001b[39;00m \u001b[38;5;28;01mas\u001b[39;00m err:\n\u001b[0;32m    355\u001b[0m     \u001b[38;5;28;01mraise\u001b[39;00m JSONDecodeError(\u001b[38;5;124m\"\u001b[39m\u001b[38;5;124mExpecting value\u001b[39m\u001b[38;5;124m\"\u001b[39m, s, err\u001b[38;5;241m.\u001b[39mvalue) \u001b[38;5;28;01mfrom\u001b[39;00m \u001b[38;5;28;01mNone\u001b[39;00m\n",
      "\u001b[1;31mJSONDecodeError\u001b[0m: Expecting ',' delimiter: line 2 column 11 (char 12)"
     ]
    }
   ],
   "source": [
    "import json\n",
    "\n",
    "\n",
    "j = '''{\n",
    "    \"a\":\"\"\"abc\n",
    "    de\n",
    "    fgh\"\"\"\n",
    "\n",
    "}'''\n",
    "\n",
    "json.loads(j)"
   ]
  }
 ],
 "metadata": {
  "kernelspec": {
   "display_name": "Python 3",
   "language": "python",
   "name": "python3"
  },
  "language_info": {
   "codemirror_mode": {
    "name": "ipython",
    "version": 3
   },
   "file_extension": ".py",
   "mimetype": "text/x-python",
   "name": "python",
   "nbconvert_exporter": "python",
   "pygments_lexer": "ipython3",
   "version": "3.12.4"
  }
 },
 "nbformat": 4,
 "nbformat_minor": 2
}
